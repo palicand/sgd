{
 "cells": [
  {
   "cell_type": "code",
   "execution_count": 51,
   "metadata": {
    "collapsed": false
   },
   "outputs": [],
   "source": [
    "import csv\n",
    "import math\n",
    "import random\n",
    "import matplotlib.pyplot as plt\n",
    "%matplotlib inline"
   ]
  },
  {
   "cell_type": "code",
   "execution_count": 187,
   "metadata": {
    "collapsed": false
   },
   "outputs": [],
   "source": [
    "def read_csv(name):\n",
    "    with open(name) as fin:\n",
    "        csv_reader = csv.reader(fin)\n",
    "        classes = [row for row in csv_reader]\n",
    "    return classes\n",
    "\n",
    "labels = [int(x[0]) for x in read_csv(\"./linsep-trainclass.csv\")]\n",
    "data = [(float(x), float(y)) for x, y in read_csv(\"./linsep-traindata.csv\")]"
   ]
  },
  {
   "cell_type": "code",
   "execution_count": 241,
   "metadata": {
    "collapsed": false
   },
   "outputs": [],
   "source": [
    "def dot(x, y):\n",
    "    pairs = zip(x, y)\n",
    "    return sum([x * y for (x, y) in pairs])\n",
    "\n",
    "def get_batch(x, y, size=1):\n",
    "    indexes = list(range(len(x)))\n",
    "    random.shuffle(indexes)\n",
    "    to_take = indexes[:size]\n",
    "    x_return = []\n",
    "    y_return = []\n",
    "    for i in to_take:\n",
    "        x_return.append(x[i])\n",
    "        y_return.append(y[i])\n",
    "    return (x_return, y_return)\n",
    "\n",
    "def random_floats(num, a=0, b=1):\n",
    "    return [random.uniform(a, b) for n in range(num)]\n",
    "\n",
    "\n",
    "def thresholding(x, threshold=0):\n",
    "    return 1 if x > threshold else -1\n",
    "\n",
    "def minus_list(a, b):\n",
    "    return [x - y for (x, y) in zip(a, b)]\n",
    "\n",
    "def loss(minus):\n",
    "    return sum([x ** 2 for x in minus])\n",
    "\n",
    "def transpose(m):\n",
    "    return [[x for (x, _) in m], [y for (_, y) in m]]\n",
    "\n",
    "def div(vec, d):\n",
    "    return [float(x) / float(d) for x in vec]\n",
    "\n",
    "def add_vecs(vec1, vec2):\n",
    "    return [v1 + v2 for (v1, v2) in zip(vec1, vec2)]\n",
    "\n",
    "def multiply_scal(vec, a):\n",
    "    return [v * a for v in vec]\n",
    "\n",
    "def add_scal(v, a):\n",
    "    return [x + a for x in v]"
   ]
  },
  {
   "cell_type": "code",
   "execution_count": 242,
   "metadata": {
    "collapsed": true
   },
   "outputs": [],
   "source": [
    "def stochastic_descent(X, y, epochs, rate, weights, batch=1, activation=thresholding):\n",
    "    for epoch in range(epochs):\n",
    "        batch_x, batch_y = get_batch(X, y, batch)\n",
    "        dotted = [dot(x, weights) for x in batch_x]\n",
    "        predicted = [activation(d) for d in dotted]\n",
    "        error = minus_list(predicted, batch_y)\n",
    "        l = loss(error)\n",
    "        grad = div([dot(feature, error) for feature in transpose(batch_x)], 2)\n",
    "        weights = add_vecs(weights, multiply_scal(grad, -rate))\n",
    "    dotted = [dot(x, weights) for x in X]\n",
    "    return [activation(d) for d in dotted], weights"
   ]
  },
  {
   "cell_type": "code",
   "execution_count": 245,
   "metadata": {
    "collapsed": false
   },
   "outputs": [],
   "source": [
    "pred, weights = stochastic_descent(data, labels, 100, 0.1, random_floats(2), 10, activation=thresholding)"
   ]
  },
  {
   "cell_type": "code",
   "execution_count": 246,
   "metadata": {
    "collapsed": false
   },
   "outputs": [
    {
     "name": "stdout",
     "output_type": "stream",
     "text": [
      "[(-1, -1), (-1, -1), (-1, -1), (-1, -1), (-1, -1), (-1, -1), (-1, -1), (-1, -1), (-1, -1), (-1, -1), (-1, -1), (-1, -1), (-1, -1), (-1, -1), (-1, -1), (-1, -1), (-1, -1), (-1, -1), (-1, -1), (-1, -1), (-1, -1), (-1, -1), (-1, -1), (-1, -1), (-1, -1), (-1, -1), (-1, -1), (-1, -1), (-1, -1), (-1, -1), (-1, -1), (-1, -1), (-1, -1), (-1, -1), (-1, -1), (-1, -1), (-1, -1), (-1, -1), (-1, -1), (-1, -1), (-1, -1), (-1, -1), (-1, -1), (-1, -1), (-1, -1), (-1, -1), (-1, -1), (-1, -1), (-1, -1), (-1, -1), (1, 1), (1, 1), (1, 1), (1, 1), (1, 1), (1, 1), (1, 1), (1, 1), (1, 1), (1, 1), (1, 1), (1, 1), (1, 1), (1, 1), (1, 1), (1, 1), (1, 1), (1, 1), (1, 1), (1, 1), (1, 1), (1, 1), (1, 1), (1, 1), (1, 1), (1, 1), (1, 1), (1, 1), (1, 1), (1, 1), (1, 1), (1, 1), (1, 1), (1, 1), (1, 1), (1, 1), (1, 1), (1, 1), (1, 1), (1, 1), (1, 1), (1, 1), (1, 1), (1, 1), (1, 1), (1, 1), (1, 1), (1, 1), (1, 1), (1, 1)]\n"
     ]
    }
   ],
   "source": [
    "print(list(zip(labels, pred)))"
   ]
  },
  {
   "cell_type": "code",
   "execution_count": 247,
   "metadata": {
    "collapsed": false
   },
   "outputs": [
    {
     "data": {
      "text/plain": [
       "[<matplotlib.lines.Line2D at 0x104a95668>,\n",
       " <matplotlib.lines.Line2D at 0x104bbe390>]"
      ]
     },
     "execution_count": 247,
     "metadata": {},
     "output_type": "execute_result"
    },
    {
     "data": {
      "image/png": "[encoded data removed]",
      "text/plain": [
       "<matplotlib.figure.Figure at 0x104a95c88>"
      ]
     },
     "metadata": {},
     "output_type": "display_data"
    }
   ],
   "source": [
    "y = [add_scal(d, weights[0]) for d in [multiply_scal(d, weights[1]) for d in data]]\n",
    "plt.scatter(*zip(*data), c=labels)\n",
    "plt.plot(data, y)"
   ]
  },
  {
   "cell_type": "code",
   "execution_count": null,
   "metadata": {
    "collapsed": true
   },
   "outputs": [],
   "source": []
  },
  {
   "cell_type": "code",
   "execution_count": null,
   "metadata": {
    "collapsed": true
   },
   "outputs": [],
   "source": []
  }
 ],
 "metadata": {
  "kernelspec": {
   "display_name": "Python 3",
   "language": "python",
   "name": "python3"
  },
  "language_info": {
   "codemirror_mode": {
    "name": "ipython",
    "version": 3
   },
   "file_extension": ".py",
   "mimetype": "text/x-python",
   "name": "python",
   "nbconvert_exporter": "python",
   "pygments_lexer": "ipython3",
   "version": "3.6.0"
  }
 },
 "nbformat": 4,
 "nbformat_minor": 2
}
